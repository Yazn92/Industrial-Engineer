{
  "nbformat": 4,
  "nbformat_minor": 0,
  "metadata": {
    "colab": {
      "provenance": [],
      "authorship_tag": "ABX9TyNloCTBsxsU6c5JqmrTFVlk",
      "include_colab_link": true
    },
    "kernelspec": {
      "name": "python3",
      "display_name": "Python 3"
    },
    "language_info": {
      "name": "python"
    }
  },
  "cells": [
    {
      "cell_type": "markdown",
      "metadata": {
        "id": "view-in-github",
        "colab_type": "text"
      },
      "source": [
        "<a href=\"https://colab.research.google.com/github/Yazn92/Industrial-Engineer/blob/main/Prediction_of_Product_Sales.ipynb\" target=\"_parent\"><img src=\"https://colab.research.google.com/assets/colab-badge.svg\" alt=\"Open In Colab\"/></a>"
      ]
    },
    {
      "cell_type": "markdown",
      "source": [
        "#**Prediction of Product Sales**\n",
        "\n",
        "- Author: Yazan Yousef"
      ],
      "metadata": {
        "id": "5cxkpaVcugmZ"
      }
    },
    {
      "cell_type": "markdown",
      "source": [
        "## Project Overview"
      ],
      "metadata": {
        "id": "hxm0W7ESuvfB"
      }
    },
    {
      "cell_type": "markdown",
      "source": [
        "## Load and Inspect Data"
      ],
      "metadata": {
        "id": "6AfAhvYluxsm"
      }
    },
    {
      "cell_type": "code",
      "source": [],
      "metadata": {
        "id": "TKg3SFxRvBcp"
      },
      "execution_count": null,
      "outputs": []
    },
    {
      "cell_type": "markdown",
      "source": [
        "## Clean Data"
      ],
      "metadata": {
        "id": "CEl8Bfjquxg4"
      }
    },
    {
      "cell_type": "code",
      "source": [],
      "metadata": {
        "id": "MugvhxlCvCBF"
      },
      "execution_count": null,
      "outputs": []
    },
    {
      "cell_type": "markdown",
      "source": [
        "## Exploratory Data Analysis"
      ],
      "metadata": {
        "id": "wdKAQKg7uxOY"
      }
    },
    {
      "cell_type": "code",
      "source": [],
      "metadata": {
        "id": "E6MIIA69vCzA"
      },
      "execution_count": null,
      "outputs": []
    },
    {
      "cell_type": "markdown",
      "source": [
        "## Feature Inspection"
      ],
      "metadata": {
        "id": "X6ay-pbVu6a2"
      }
    },
    {
      "cell_type": "code",
      "source": [],
      "metadata": {
        "id": "nC_TmQNju9DQ"
      },
      "execution_count": null,
      "outputs": []
    }
  ]
}